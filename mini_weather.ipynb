{
 "cells": [
  {
   "cell_type": "code",
   "execution_count": 1,
   "metadata": {},
   "outputs": [],
   "source": [
    "import requests as rq"
   ]
  },
  {
   "cell_type": "code",
   "execution_count": 2,
   "metadata": {},
   "outputs": [
    {
     "name": "stdout",
     "output_type": "stream",
     "text": [
      "please input the city name:南京\n"
     ]
    }
   ],
   "source": [
    "try:\n",
    "    city = input('please input the city name:')\n",
    "    r = rq.get('http://wthrcdn.etouch.cn/weather_mini?city=%s' % city)\n",
    "except:\n",
    "    print('City not found!')\n",
    "city_dict = r.json()"
   ]
  },
  {
   "cell_type": "code",
   "execution_count": 3,
   "metadata": {},
   "outputs": [
    {
     "name": "stdout",
     "output_type": "stream",
     "text": [
      "南京:\n",
      "Date:26日星期一\n",
      "高温 34℃\n",
      "低温 27℃\n",
      "Weather:多云\n",
      "\n"
     ]
    }
   ],
   "source": [
    "city_name = city_dict['data'].get('city')\n",
    "weather = city_dict['data'].get('forecast')\n",
    "date = weather[0].get('date')\n",
    "highC = weather[0].get('high')\n",
    "lowC = weather[0].get('low')\n",
    "Type = weather[0].get('type')\n",
    "print('%s:\\nDate:%s\\n%s\\n%s\\nWeather:%s\\n' %(city_name, date, highC, lowC, Type))"
   ]
  }
 ],
 "metadata": {
  "kernelspec": {
   "display_name": "Python 3",
   "language": "python",
   "name": "python3"
  },
  "language_info": {
   "codemirror_mode": {
    "name": "ipython",
    "version": 3
   },
   "file_extension": ".py",
   "mimetype": "text/x-python",
   "name": "python",
   "nbconvert_exporter": "python",
   "pygments_lexer": "ipython3",
   "version": "3.7.3"
  }
 },
 "nbformat": 4,
 "nbformat_minor": 2
}
